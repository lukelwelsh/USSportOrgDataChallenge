{
 "cells": [
  {
   "cell_type": "code",
   "execution_count": 1,
   "id": "c10ff856-c553-4caf-88d2-cfa51eb0b7f3",
   "metadata": {},
   "outputs": [],
   "source": [
    "import pandas as pd\n",
    "import numpy as np\n",
    "from scipy.stats import norm\n",
    "import itertools\n",
    "import obj # my .py file with classes for individual athletes and countries\n",
    "\n",
    "pd.options.mode.chained_assignment = None"
   ]
  },
  {
   "cell_type": "code",
   "execution_count": 2,
   "id": "6cd11a18-a322-4468-9ccb-5e625dbb157b",
   "metadata": {},
   "outputs": [],
   "source": [
    "women = pd.read_csv('women.csv')\n",
    "men = pd.read_csv('men.csv')"
   ]
  },
  {
   "cell_type": "markdown",
   "id": "4c8a0eff-bd47-41f6-9ca7-ec4dfa08a128",
   "metadata": {},
   "source": [
    "**Create a projected field of gymnasts for which we can estimate off of**"
   ]
  },
  {
   "cell_type": "code",
   "execution_count": 3,
   "id": "82c6f206-b140-4a1e-8b3d-b1e303c4bd05",
   "metadata": {},
   "outputs": [],
   "source": [
    "men_quals = ['CHN', 'JPN', 'GBR', 'USA', 'CAN', 'GER', 'ITA', 'SUI', 'ESP', 'TUR', 'NED', 'UKR']\n",
    "\n",
    "men['qual_team'] = men['Olympic_Nation'].isin(men_quals) # new column to separate athletes from countries that have already qualified"
   ]
  },
  {
   "cell_type": "code",
   "execution_count": 4,
   "id": "d5ff9892-946d-4707-9556-309f6f7f10ff",
   "metadata": {},
   "outputs": [],
   "source": [
    "# Create a dictionary with the expected 5 gymnasts for each of the qualifying teams\n",
    "\n",
    "m_comp_dict = {} # dictionary of key = country, value = dictionary of key = Gymnast, value = DataFrame of Average & SD Performance in each apparatus\n",
    "no_USA = men_quals.copy()\n",
    "no_USA.remove('USA')\n",
    "for country in no_USA: # getting 5 athletes that all other team qualifiers will send (prediction)\n",
    "    m_comp_dict[country] = obj.m_country(country).top_5\n",
    "    \n",
    "q_ath = set()\n",
    "for country in m_comp_dict:\n",
    "    for ath in m_comp_dict[country]:\n",
    "        q_ath.add(ath)"
   ]
  },
  {
   "cell_type": "code",
   "execution_count": 5,
   "id": "fe182355-107b-473b-89fe-50046b777de5",
   "metadata": {},
   "outputs": [],
   "source": [
    "# Already Qualified Individuals from the 2023 World Championships: https://usagym.org/events/2023-artistic-gymnastics-world-championships/\n",
    "\n",
    "m_App_qual = [\n",
    "    ('Tin SRBIC', 'HB'),\n",
    "    ('Noah KUAVITA', 'PB'),\n",
    "    ('Kevin PENEV', 'VT'),\n",
    "    ('Eleftherios PETROUNIAS', 'SR'),\n",
    "    ('Rhys MCCLENAGHAN', 'PH'),\n",
    "    ('Carlos YULO', 'FX')]\n",
    "\n",
    "m_AA_qual = ['Andrei MUNTEAN',\n",
    "           'Luka VANDENKEYBUS',\n",
    "           'Diogo SOARES',\n",
    "           'Junho LEE',\n",
    "           'Krisztofer MESZAROS',\n",
    "           'Artur DAVTYAN',\n",
    "           'Artem DOLGOPYAT',\n",
    "           'Milad KARIMI', \n",
    "           'Audrys NIN', \n",
    "           'Valgard REINHARDSSON'] # manually chosen Tripartite selection"
   ]
  },
  {
   "cell_type": "code",
   "execution_count": 6,
   "id": "1e2da890-42ac-40c9-afa7-c10a2f69f9c5",
   "metadata": {},
   "outputs": [],
   "source": [
    "# Estimating who will be sent from the first 3 countries that did not make it as a team, as well as France, because they are the host country\n",
    "\n",
    "m_countries_1 = ['BRA', 'KOR', 'BEL', 'FRA']\n",
    "idv_qualed = [a[0] for a in m_App_qual] + m_AA_qual # all previously indv. qualifiers\n",
    "for country_1 in m_countries_1: # finding the athlete with the highest all around score for each country\n",
    "    country_aths = obj.m_country(country_1).ath_perf\n",
    "    top_score = 0\n",
    "    top_scorer = None\n",
    "    for ath in country_aths:\n",
    "        if len(country_aths[ath]) == 6 and np.mean(country_aths[ath]['mean']) > top_score and ath not in idv_qualed:\n",
    "            top_score = np.mean(country_aths[ath]['mean'])\n",
    "            top_scorer = ath\n",
    "    m_AA_qual.append(top_scorer)"
   ]
  },
  {
   "cell_type": "code",
   "execution_count": 7,
   "id": "ad91abdc-ad20-455b-afb7-90ac6d5a6356",
   "metadata": {},
   "outputs": [],
   "source": [
    "# update qual column so all individual qualifiers so far are included as True\n",
    "idv_qualed = [a[0] for a in m_App_qual] + m_AA_qual\n",
    "men.loc[men['Name'].isin(idv_qualed), 'qual_team'] = True "
   ]
  },
  {
   "cell_type": "code",
   "execution_count": 8,
   "id": "c3adc688-66e9-4cf2-b100-f4606de59157",
   "metadata": {},
   "outputs": [],
   "source": [
    "remaining = men[men['qual_team'] == False]['Name'].unique()\n",
    "last_4_AA = {}\n",
    "tracking_AA_d = {}\n",
    "for ath in remaining: # finding the 4 best remaining all around\n",
    "    ath_summ = obj.male_gymnast(ath).summ_table\n",
    "    if len(ath_summ) == 6:\n",
    "        if len(last_4_AA) < 4:\n",
    "            last_4_AA[ath] = sum(ath_summ['mean'])\n",
    "            tracking_AA_d[sum(ath_summ['mean'])] = ath\n",
    "        elif sum(ath_summ['mean']) > min(last_4_AA.values()):\n",
    "            last_4_AA[ath] = sum(ath_summ['mean'])\n",
    "            tracking_AA_d[sum(ath_summ['mean'])] = ath\n",
    "            last_4_AA.pop(tracking_AA_d[min(last_4_AA.values())])\n",
    "\n",
    "m_AA_qual.extend(last_4_AA.keys())"
   ]
  },
  {
   "cell_type": "code",
   "execution_count": 9,
   "id": "04fbdb2e-3478-4a6a-95ea-eb504b2bc5fa",
   "metadata": {},
   "outputs": [],
   "source": [
    "last_2_App = {'FX': {}, 'HB': {}, 'PB': {}, 'PH': {}, 'SR': {}, 'VT': {}}\n",
    "\n",
    "for ath in remaining: # finding the top 2 remaining apparatus athletes for each apparatus\n",
    "    if ath not in last_4_AA:\n",
    "        ath_summ = obj.male_gymnast(ath).summ_table\n",
    "        if ath not in last_4_AA:\n",
    "            for app in ath_summ.itertuples():\n",
    "                last_2_App[app.Index][ath] = app.mean"
   ]
  },
  {
   "cell_type": "code",
   "execution_count": 10,
   "id": "7ec87055-882b-403f-8a84-bea14f2ee42d",
   "metadata": {},
   "outputs": [],
   "source": [
    "for app in last_2_App: # add last 2 into larger apparatus qualifiers\n",
    "    app_scores = last_2_App[app]\n",
    "    top_aths = sorted(app_scores, key=lambda k: app_scores[k], reverse=True)[:2]\n",
    "    for ath in top_aths:\n",
    "        m_App_qual.append((ath, app))"
   ]
  },
  {
   "cell_type": "code",
   "execution_count": 11,
   "id": "60384ea4-7a06-41b4-b8f1-e64e3fbdceb7",
   "metadata": {},
   "outputs": [],
   "source": [
    "for AA in m_AA_qual: # add indv all around athletes to all competitors pool\n",
    "    a = obj.male_gymnast(AA)\n",
    "    if a.country in m_comp_dict:\n",
    "        m_comp_dict[a.country][AA] = a.summ_table\n",
    "    else:\n",
    "        m_comp_dict[a.country] = {AA: a.summ_table}"
   ]
  },
  {
   "cell_type": "code",
   "execution_count": 12,
   "id": "cbff7545-973e-405f-a9b1-de1d79eb1598",
   "metadata": {},
   "outputs": [],
   "source": [
    "for App in m_App_qual: # add indv apparatus athletes to all competitors pool\n",
    "    a = obj.male_gymnast(App[0])\n",
    "    app_row = a.summ_table.loc[App[1]].to_frame().T\n",
    "    if a.country in m_comp_dict:\n",
    "        m_comp_dict[a.country][App[0]] = app_row\n",
    "    else:\n",
    "        m_comp_dict[a.country] = {App[0]: app_row}"
   ]
  },
  {
   "cell_type": "code",
   "execution_count": 13,
   "id": "e00de471-49e9-4c5b-bf17-fd966336df28",
   "metadata": {},
   "outputs": [
    {
     "name": "stderr",
     "output_type": "stream",
     "text": [
      "C:\\Users\\lukel\\anaconda3\\lib\\site-packages\\scipy\\stats\\_distn_infrastructure.py:2176: RuntimeWarning: divide by zero encountered in divide\n",
      "  x = np.asarray((x - loc)/scale, dtype=dtyp)\n"
     ]
    }
   ],
   "source": [
    "# adding all athletes in competitors pool to pool separated by apparatus\n",
    "qual = {'FX': [], 'HB': [], 'PB': [], 'PH': [], 'SR': [], 'VT': []}\n",
    "score_range = np.arange(12, 17, 0.001)\n",
    "for country in m_comp_dict:\n",
    "    country_comp = {'FX': [], 'HB': [], 'PB': [], 'PH': [], 'SR': [], 'VT': []}\n",
    "    country_mean_scores = {'FX': [], 'HB': [], 'PB': [], 'PH': [], 'SR': [], 'VT': []}\n",
    "    for gymnast in m_comp_dict[country]: # filtering down country qualifiers to only have 4 athletes per apparatus\n",
    "        for apparatus in m_comp_dict[country][gymnast].itertuples():\n",
    "            if len(country_comp[apparatus.Index]) < 4:\n",
    "                dist = norm.cdf(score_range, loc=apparatus.mean, scale=apparatus.std_dev)\n",
    "                country_comp[apparatus.Index].append((apparatus.mean, apparatus.std_dev, dist, gymnast, country))\n",
    "                country_mean_scores[apparatus.Index].append(apparatus.mean)\n",
    "           \n",
    "            elif apparatus.mean > min(country_mean_scores[apparatus.Index]):\n",
    "                dist = norm.cdf(score_range, loc=apparatus.mean, scale=apparatus.std_dev)\n",
    "                country_comp[apparatus.Index].append((apparatus.mean, apparatus.std_dev, dist, gymnast, country))\n",
    "                for i, p in enumerate(country_comp[apparatus.Index]):\n",
    "                    if min(country_mean_scores[apparatus.Index]) == p[0]:\n",
    "                        country_comp[apparatus.Index].pop(i)                        \n",
    "    for apparatus in qual:\n",
    "        qual[apparatus].extend(country_comp[apparatus])"
   ]
  },
  {
   "cell_type": "code",
   "execution_count": 14,
   "id": "b035a33f-bda2-4e62-b713-82c796a60914",
   "metadata": {},
   "outputs": [],
   "source": [
    "men_apps = ['FX', 'PH', 'SR', 'VT', 'PB', 'HB']\n",
    "n = 100\n",
    "# creating 100 simulated qualifying rounds\n",
    "qual_scores = {}\n",
    "athlete_dict = {}\n",
    "for apparatus in men_apps: # Run Qualifying Rounds\n",
    "    for athlete in qual[apparatus]:\n",
    "        qual_scores[athlete[3] + '-' + athlete[4] + '_' + apparatus] = np.random.normal(athlete[0], athlete[1], n)\n",
    "        athlete_dict[athlete[3] + '-' + athlete[4] +'_' + apparatus] = athlete\n",
    "sims = pd.DataFrame(qual_scores)"
   ]
  },
  {
   "cell_type": "code",
   "execution_count": 15,
   "id": "cf2760f3-902b-46e1-aad9-0039ad29c508",
   "metadata": {},
   "outputs": [],
   "source": [
    "sims.to_csv('m_sims.csv', index = False)"
   ]
  }
 ],
 "metadata": {
  "kernelspec": {
   "display_name": "Python 3",
   "language": "python",
   "name": "python3"
  },
  "language_info": {
   "codemirror_mode": {
    "name": "ipython",
    "version": 3
   },
   "file_extension": ".py",
   "mimetype": "text/x-python",
   "name": "python",
   "nbconvert_exporter": "python",
   "pygments_lexer": "ipython3",
   "version": "3.8.8"
  }
 },
 "nbformat": 4,
 "nbformat_minor": 5
}
